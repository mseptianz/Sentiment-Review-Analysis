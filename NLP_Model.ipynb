{
 "cells": [
  {
   "cell_type": "code",
   "execution_count": 1,
   "metadata": {},
   "outputs": [
    {
     "name": "stdout",
     "output_type": "stream",
     "text": [
      "WARNING:tensorflow:From c:\\Users\\asus\\Anaconda3\\envs\\py_3_11\\Lib\\site-packages\\keras\\src\\losses.py:2976: The name tf.losses.sparse_softmax_cross_entropy is deprecated. Please use tf.compat.v1.losses.sparse_softmax_cross_entropy instead.\n",
      "\n",
      "2.15.1\n"
     ]
    },
    {
     "name": "stderr",
     "output_type": "stream",
     "text": [
      "[nltk_data] Downloading package stopwords to\n",
      "[nltk_data]     C:\\Users\\asus\\AppData\\Roaming\\nltk_data...\n",
      "[nltk_data]   Package stopwords is already up-to-date!\n",
      "[nltk_data] Downloading package punkt to\n",
      "[nltk_data]     C:\\Users\\asus\\AppData\\Roaming\\nltk_data...\n",
      "[nltk_data]   Package punkt is already up-to-date!\n"
     ]
    }
   ],
   "source": [
    "# Import Libraries\n",
    "\n",
    "import re\n",
    "import nltk\n",
    "import string\n",
    "import numpy as np\n",
    "import pandas as pd\n",
    "import seaborn as sns\n",
    "import matplotlib.pyplot as plt\n",
    "\n",
    "import tensorflow as tf\n",
    "import tensorflow_hub as tf_hub\n",
    "\n",
    "from nltk.tokenize import word_tokenize\n",
    "from sklearn.model_selection import train_test_split\n",
    "from sklearn.feature_extraction.text import CountVectorizer\n",
    "\n",
    "nltk.download('stopwords')\n",
    "nltk.download('punkt')\n",
    "\n",
    "# Check TensorFlow version\n",
    "print(tf.__version__)"
   ]
  },
  {
   "cell_type": "code",
   "execution_count": 2,
   "metadata": {},
   "outputs": [
    {
     "name": "stdout",
     "output_type": "stream",
     "text": [
      "<class 'pandas.core.frame.DataFrame'>\n",
      "RangeIndex: 19540 entries, 0 to 19539\n",
      "Data columns (total 2 columns):\n",
      " #   Column  Non-Null Count  Dtype \n",
      "---  ------  --------------  ----- \n",
      " 0   Review  19540 non-null  object\n",
      " 1   Rating  19540 non-null  object\n",
      "dtypes: object(2)\n",
      "memory usage: 305.4+ KB\n"
     ]
    }
   ],
   "source": [
    "df = pd.read_csv('data_final.csv')\n",
    "df.info()"
   ]
  },
  {
   "cell_type": "markdown",
   "metadata": {},
   "source": [
    "## Handling Duplicate"
   ]
  },
  {
   "cell_type": "code",
   "execution_count": 3,
   "metadata": {},
   "outputs": [
    {
     "data": {
      "text/plain": [
       "0"
      ]
     },
     "execution_count": 3,
     "metadata": {},
     "output_type": "execute_result"
    }
   ],
   "source": [
    "df.duplicated().sum()"
   ]
  },
  {
   "cell_type": "code",
   "execution_count": 4,
   "metadata": {},
   "outputs": [],
   "source": [
    "df = df.drop_duplicates()"
   ]
  },
  {
   "cell_type": "code",
   "execution_count": 5,
   "metadata": {},
   "outputs": [
    {
     "data": {
      "text/plain": [
       "0"
      ]
     },
     "execution_count": 5,
     "metadata": {},
     "output_type": "execute_result"
    }
   ],
   "source": [
    "df.duplicated().sum()"
   ]
  },
  {
   "cell_type": "markdown",
   "metadata": {},
   "source": [
    "## Handling Missing Value"
   ]
  },
  {
   "cell_type": "code",
   "execution_count": 6,
   "metadata": {},
   "outputs": [
    {
     "data": {
      "text/plain": [
       "Review    0\n",
       "Rating    0\n",
       "dtype: int64"
      ]
     },
     "execution_count": 6,
     "metadata": {},
     "output_type": "execute_result"
    }
   ],
   "source": [
    "df.isna().sum()"
   ]
  },
  {
   "cell_type": "code",
   "execution_count": 7,
   "metadata": {},
   "outputs": [],
   "source": [
    "df = df.dropna()"
   ]
  },
  {
   "cell_type": "markdown",
   "metadata": {},
   "source": [
    "# Text Preprocessing"
   ]
  },
  {
   "cell_type": "code",
   "execution_count": 8,
   "metadata": {},
   "outputs": [],
   "source": [
    "# Define Stopwords\n",
    "from nltk.corpus import stopwords\n",
    "stpwds_id = list(set(stopwords.words('indonesian')))\n",
    "\n",
    "# Define Stemming\n",
    "from Sastrawi.Stemmer.StemmerFactory import StemmerFactory\n",
    "stemmer = StemmerFactory().create_stemmer()"
   ]
  },
  {
   "cell_type": "code",
   "execution_count": 9,
   "metadata": {},
   "outputs": [],
   "source": [
    "# Create A Function for Text Preprocessing\n",
    "\n",
    "def text_preprocessing(text):\n",
    "  # Case folding\n",
    "  text = text.lower()\n",
    "\n",
    "  # Mention removal\n",
    "  text = re.sub(\"@[A-Za-z0-9_]+\", \" \", text)\n",
    "\n",
    "  # Hashtags removal\n",
    "  text = re.sub(\"#[A-Za-z0-9_]+\", \" \", text)\n",
    "\n",
    "  # Newline removal (\\n)\n",
    "  text = re.sub(r\"\\\\n\", \" \",text)\n",
    "\n",
    "  # Whitespace removal\n",
    "  text = text.strip()\n",
    "\n",
    "  # URL removal\n",
    "  text = re.sub(r\"http\\S+\", \" \", text)\n",
    "  text = re.sub(r\"www.\\S+\", \" \", text)\n",
    "\n",
    "  # Non-letter removal (such as emoticon, symbol (like μ, $, 兀), etc\n",
    "  text = re.sub(\"[^A-Za-z\\s']\", \" \", text)\n",
    "\n",
    "  # Tokenization\n",
    "  tokens = word_tokenize(text)\n",
    "\n",
    "  # Stopwords removal\n",
    "  tokens = [word for word in tokens if word not in stpwds_id]\n",
    "\n",
    "  # Stemming\n",
    "  tokens = [stemmer.stem(word) for word in tokens]\n",
    "\n",
    "  # Combining Tokens\n",
    "  text = ' '.join(tokens)\n",
    "\n",
    "  return text"
   ]
  },
  {
   "cell_type": "code",
   "execution_count": 10,
   "metadata": {},
   "outputs": [
    {
     "name": "stderr",
     "output_type": "stream",
     "text": [
      "[nltk_data] Downloading package punkt_tab to\n",
      "[nltk_data]     C:\\Users\\asus\\AppData\\Roaming\\nltk_data...\n",
      "[nltk_data]   Package punkt_tab is already up-to-date!\n"
     ]
    },
    {
     "data": {
      "text/plain": [
       "True"
      ]
     },
     "execution_count": 10,
     "metadata": {},
     "output_type": "execute_result"
    }
   ],
   "source": [
    "nltk.download('punkt_tab')"
   ]
  },
  {
   "cell_type": "markdown",
   "metadata": {},
   "source": [
    "## Target Conversion"
   ]
  },
  {
   "cell_type": "code",
   "execution_count": 11,
   "metadata": {},
   "outputs": [
    {
     "data": {
      "text/html": [
       "<div>\n",
       "<style scoped>\n",
       "    .dataframe tbody tr th:only-of-type {\n",
       "        vertical-align: middle;\n",
       "    }\n",
       "\n",
       "    .dataframe tbody tr th {\n",
       "        vertical-align: top;\n",
       "    }\n",
       "\n",
       "    .dataframe thead th {\n",
       "        text-align: right;\n",
       "    }\n",
       "</style>\n",
       "<table border=\"1\" class=\"dataframe\">\n",
       "  <thead>\n",
       "    <tr style=\"text-align: right;\">\n",
       "      <th></th>\n",
       "      <th>Review</th>\n",
       "      <th>Rating</th>\n",
       "      <th>Review_processed</th>\n",
       "    </tr>\n",
       "  </thead>\n",
       "  <tbody>\n",
       "    <tr>\n",
       "      <th>0</th>\n",
       "      <td>Beli Online memang paling aman di official store</td>\n",
       "      <td>bintang 5</td>\n",
       "      <td>beli online aman official store</td>\n",
       "    </tr>\n",
       "    <tr>\n",
       "      <th>1</th>\n",
       "      <td>Barang masih di segel, tepat waktu, dan packin...</td>\n",
       "      <td>bintang 5</td>\n",
       "      <td>barang segel packing bagus barang luka</td>\n",
       "    </tr>\n",
       "    <tr>\n",
       "      <th>2</th>\n",
       "      <td>mantab greget, penguriman aman,sampai tujuan s...</td>\n",
       "      <td>bintang 5</td>\n",
       "      <td>mantab greget penguriman aman tuju selamat</td>\n",
       "    </tr>\n",
       "    <tr>\n",
       "      <th>3</th>\n",
       "      <td>pertama kali beli online, aman. packing rapi</td>\n",
       "      <td>bintang 5</td>\n",
       "      <td>kali beli online aman packing rapi</td>\n",
       "    </tr>\n",
       "    <tr>\n",
       "      <th>4</th>\n",
       "      <td>Barang bagus, berfungsi dengan baik, untuk pen...</td>\n",
       "      <td>bintang 4</td>\n",
       "      <td>barang bagus fungsi kirim poko mantab sayang g...</td>\n",
       "    </tr>\n",
       "    <tr>\n",
       "      <th>...</th>\n",
       "      <td>...</td>\n",
       "      <td>...</td>\n",
       "      <td>...</td>\n",
       "    </tr>\n",
       "    <tr>\n",
       "      <th>19535</th>\n",
       "      <td>Pesanan sudah diterima dengan baik packing ama...</td>\n",
       "      <td>bintang 5</td>\n",
       "      <td>pesan terima packing aman n kirim cepet banget...</td>\n",
       "    </tr>\n",
       "    <tr>\n",
       "      <th>19536</th>\n",
       "      <td>pengiriman aman dan cepat,,terima kasih.</td>\n",
       "      <td>bintang 5</td>\n",
       "      <td>kirim aman cepat terima kasih</td>\n",
       "    </tr>\n",
       "    <tr>\n",
       "      <th>19537</th>\n",
       "      <td>Mantap deh buat poco Indonesia barang bagus pe...</td>\n",
       "      <td>bintang 5</td>\n",
       "      <td>mantap deh poco indonesia barang bagus kirim c...</td>\n",
       "    </tr>\n",
       "    <tr>\n",
       "      <th>19538</th>\n",
       "      <td>Barang original dan masih segel. Pengiriman ju...</td>\n",
       "      <td>bintang 5</td>\n",
       "      <td>barang original segel kirim cepat</td>\n",
       "    </tr>\n",
       "    <tr>\n",
       "      <th>19539</th>\n",
       "      <td>Barang diterima dalam kondisi baik. Semoga awet.</td>\n",
       "      <td>bintang 5</td>\n",
       "      <td>barang terima kondisi moga awet</td>\n",
       "    </tr>\n",
       "  </tbody>\n",
       "</table>\n",
       "<p>19540 rows × 3 columns</p>\n",
       "</div>"
      ],
      "text/plain": [
       "                                                  Review     Rating  \\\n",
       "0       Beli Online memang paling aman di official store  bintang 5   \n",
       "1      Barang masih di segel, tepat waktu, dan packin...  bintang 5   \n",
       "2      mantab greget, penguriman aman,sampai tujuan s...  bintang 5   \n",
       "3           pertama kali beli online, aman. packing rapi  bintang 5   \n",
       "4      Barang bagus, berfungsi dengan baik, untuk pen...  bintang 4   \n",
       "...                                                  ...        ...   \n",
       "19535  Pesanan sudah diterima dengan baik packing ama...  bintang 5   \n",
       "19536           pengiriman aman dan cepat,,terima kasih.  bintang 5   \n",
       "19537  Mantap deh buat poco Indonesia barang bagus pe...  bintang 5   \n",
       "19538  Barang original dan masih segel. Pengiriman ju...  bintang 5   \n",
       "19539   Barang diterima dalam kondisi baik. Semoga awet.  bintang 5   \n",
       "\n",
       "                                        Review_processed  \n",
       "0                        beli online aman official store  \n",
       "1                 barang segel packing bagus barang luka  \n",
       "2             mantab greget penguriman aman tuju selamat  \n",
       "3                     kali beli online aman packing rapi  \n",
       "4      barang bagus fungsi kirim poko mantab sayang g...  \n",
       "...                                                  ...  \n",
       "19535  pesan terima packing aman n kirim cepet banget...  \n",
       "19536                      kirim aman cepat terima kasih  \n",
       "19537  mantap deh poco indonesia barang bagus kirim c...  \n",
       "19538                  barang original segel kirim cepat  \n",
       "19539                    barang terima kondisi moga awet  \n",
       "\n",
       "[19540 rows x 3 columns]"
      ]
     },
     "execution_count": 11,
     "metadata": {},
     "output_type": "execute_result"
    }
   ],
   "source": [
    "# Applying Text Preprocessing to the Dataset\n",
    "\n",
    "df['Review_processed'] = df['Review'].apply(lambda x: text_preprocessing(x))\n",
    "df"
   ]
  },
  {
   "cell_type": "code",
   "execution_count": 12,
   "metadata": {},
   "outputs": [
    {
     "data": {
      "text/html": [
       "<div>\n",
       "<style scoped>\n",
       "    .dataframe tbody tr th:only-of-type {\n",
       "        vertical-align: middle;\n",
       "    }\n",
       "\n",
       "    .dataframe tbody tr th {\n",
       "        vertical-align: top;\n",
       "    }\n",
       "\n",
       "    .dataframe thead th {\n",
       "        text-align: right;\n",
       "    }\n",
       "</style>\n",
       "<table border=\"1\" class=\"dataframe\">\n",
       "  <thead>\n",
       "    <tr style=\"text-align: right;\">\n",
       "      <th></th>\n",
       "      <th>Review</th>\n",
       "      <th>Rating</th>\n",
       "      <th>Review_processed</th>\n",
       "    </tr>\n",
       "  </thead>\n",
       "  <tbody>\n",
       "    <tr>\n",
       "      <th>0</th>\n",
       "      <td>Beli Online memang paling aman di official store</td>\n",
       "      <td>5</td>\n",
       "      <td>beli online aman official store</td>\n",
       "    </tr>\n",
       "    <tr>\n",
       "      <th>1</th>\n",
       "      <td>Barang masih di segel, tepat waktu, dan packin...</td>\n",
       "      <td>5</td>\n",
       "      <td>barang segel packing bagus barang luka</td>\n",
       "    </tr>\n",
       "    <tr>\n",
       "      <th>2</th>\n",
       "      <td>mantab greget, penguriman aman,sampai tujuan s...</td>\n",
       "      <td>5</td>\n",
       "      <td>mantab greget penguriman aman tuju selamat</td>\n",
       "    </tr>\n",
       "    <tr>\n",
       "      <th>3</th>\n",
       "      <td>pertama kali beli online, aman. packing rapi</td>\n",
       "      <td>5</td>\n",
       "      <td>kali beli online aman packing rapi</td>\n",
       "    </tr>\n",
       "    <tr>\n",
       "      <th>4</th>\n",
       "      <td>Barang bagus, berfungsi dengan baik, untuk pen...</td>\n",
       "      <td>4</td>\n",
       "      <td>barang bagus fungsi kirim poko mantab sayang g...</td>\n",
       "    </tr>\n",
       "    <tr>\n",
       "      <th>...</th>\n",
       "      <td>...</td>\n",
       "      <td>...</td>\n",
       "      <td>...</td>\n",
       "    </tr>\n",
       "    <tr>\n",
       "      <th>19535</th>\n",
       "      <td>Pesanan sudah diterima dengan baik packing ama...</td>\n",
       "      <td>5</td>\n",
       "      <td>pesan terima packing aman n kirim cepet banget...</td>\n",
       "    </tr>\n",
       "    <tr>\n",
       "      <th>19536</th>\n",
       "      <td>pengiriman aman dan cepat,,terima kasih.</td>\n",
       "      <td>5</td>\n",
       "      <td>kirim aman cepat terima kasih</td>\n",
       "    </tr>\n",
       "    <tr>\n",
       "      <th>19537</th>\n",
       "      <td>Mantap deh buat poco Indonesia barang bagus pe...</td>\n",
       "      <td>5</td>\n",
       "      <td>mantap deh poco indonesia barang bagus kirim c...</td>\n",
       "    </tr>\n",
       "    <tr>\n",
       "      <th>19538</th>\n",
       "      <td>Barang original dan masih segel. Pengiriman ju...</td>\n",
       "      <td>5</td>\n",
       "      <td>barang original segel kirim cepat</td>\n",
       "    </tr>\n",
       "    <tr>\n",
       "      <th>19539</th>\n",
       "      <td>Barang diterima dalam kondisi baik. Semoga awet.</td>\n",
       "      <td>5</td>\n",
       "      <td>barang terima kondisi moga awet</td>\n",
       "    </tr>\n",
       "  </tbody>\n",
       "</table>\n",
       "<p>19540 rows × 3 columns</p>\n",
       "</div>"
      ],
      "text/plain": [
       "                                                  Review  Rating  \\\n",
       "0       Beli Online memang paling aman di official store       5   \n",
       "1      Barang masih di segel, tepat waktu, dan packin...       5   \n",
       "2      mantab greget, penguriman aman,sampai tujuan s...       5   \n",
       "3           pertama kali beli online, aman. packing rapi       5   \n",
       "4      Barang bagus, berfungsi dengan baik, untuk pen...       4   \n",
       "...                                                  ...     ...   \n",
       "19535  Pesanan sudah diterima dengan baik packing ama...       5   \n",
       "19536           pengiriman aman dan cepat,,terima kasih.       5   \n",
       "19537  Mantap deh buat poco Indonesia barang bagus pe...       5   \n",
       "19538  Barang original dan masih segel. Pengiriman ju...       5   \n",
       "19539   Barang diterima dalam kondisi baik. Semoga awet.       5   \n",
       "\n",
       "                                        Review_processed  \n",
       "0                        beli online aman official store  \n",
       "1                 barang segel packing bagus barang luka  \n",
       "2             mantab greget penguriman aman tuju selamat  \n",
       "3                     kali beli online aman packing rapi  \n",
       "4      barang bagus fungsi kirim poko mantab sayang g...  \n",
       "...                                                  ...  \n",
       "19535  pesan terima packing aman n kirim cepet banget...  \n",
       "19536                      kirim aman cepat terima kasih  \n",
       "19537  mantap deh poco indonesia barang bagus kirim c...  \n",
       "19538                  barang original segel kirim cepat  \n",
       "19539                    barang terima kondisi moga awet  \n",
       "\n",
       "[19540 rows x 3 columns]"
      ]
     },
     "execution_count": 12,
     "metadata": {},
     "output_type": "execute_result"
    }
   ],
   "source": [
    "# Menghapus kata 'bintang' pada kolom 'Rating'\n",
    "df['Rating'] = df['Rating'].str.replace('bintang', '')\n",
    "\n",
    "# Mengubah kolom Rating menjadi numerik\n",
    "df['Rating'] = pd.to_numeric(df['Rating'], errors='coerce')\n",
    "df"
   ]
  },
  {
   "cell_type": "code",
   "execution_count": 13,
   "metadata": {},
   "outputs": [
    {
     "name": "stdout",
     "output_type": "stream",
     "text": [
      "<class 'pandas.core.frame.DataFrame'>\n",
      "RangeIndex: 19540 entries, 0 to 19539\n",
      "Data columns (total 3 columns):\n",
      " #   Column            Non-Null Count  Dtype \n",
      "---  ------            --------------  ----- \n",
      " 0   Review            19540 non-null  object\n",
      " 1   Rating            19540 non-null  int64 \n",
      " 2   Review_processed  19540 non-null  object\n",
      "dtypes: int64(1), object(2)\n",
      "memory usage: 458.1+ KB\n"
     ]
    }
   ],
   "source": [
    "df.info()"
   ]
  },
  {
   "cell_type": "code",
   "execution_count": 14,
   "metadata": {},
   "outputs": [],
   "source": [
    "def rate(bintang):\n",
    "    if bintang > 3:\n",
    "        return 'Positive'\n",
    "    elif bintang <= 3:\n",
    "        return 'Negative'\n",
    "\n",
    "df['Rating'] = df['Rating'].apply(rate)\n"
   ]
  },
  {
   "cell_type": "code",
   "execution_count": 15,
   "metadata": {},
   "outputs": [
    {
     "data": {
      "text/html": [
       "<div>\n",
       "<style scoped>\n",
       "    .dataframe tbody tr th:only-of-type {\n",
       "        vertical-align: middle;\n",
       "    }\n",
       "\n",
       "    .dataframe tbody tr th {\n",
       "        vertical-align: top;\n",
       "    }\n",
       "\n",
       "    .dataframe thead th {\n",
       "        text-align: right;\n",
       "    }\n",
       "</style>\n",
       "<table border=\"1\" class=\"dataframe\">\n",
       "  <thead>\n",
       "    <tr style=\"text-align: right;\">\n",
       "      <th></th>\n",
       "      <th>Review</th>\n",
       "      <th>Rating</th>\n",
       "      <th>Review_processed</th>\n",
       "      <th>label</th>\n",
       "    </tr>\n",
       "  </thead>\n",
       "  <tbody>\n",
       "    <tr>\n",
       "      <th>0</th>\n",
       "      <td>Beli Online memang paling aman di official store</td>\n",
       "      <td>Positive</td>\n",
       "      <td>beli online aman official store</td>\n",
       "      <td>1</td>\n",
       "    </tr>\n",
       "    <tr>\n",
       "      <th>1</th>\n",
       "      <td>Barang masih di segel, tepat waktu, dan packin...</td>\n",
       "      <td>Positive</td>\n",
       "      <td>barang segel packing bagus barang luka</td>\n",
       "      <td>1</td>\n",
       "    </tr>\n",
       "    <tr>\n",
       "      <th>2</th>\n",
       "      <td>mantab greget, penguriman aman,sampai tujuan s...</td>\n",
       "      <td>Positive</td>\n",
       "      <td>mantab greget penguriman aman tuju selamat</td>\n",
       "      <td>1</td>\n",
       "    </tr>\n",
       "    <tr>\n",
       "      <th>3</th>\n",
       "      <td>pertama kali beli online, aman. packing rapi</td>\n",
       "      <td>Positive</td>\n",
       "      <td>kali beli online aman packing rapi</td>\n",
       "      <td>1</td>\n",
       "    </tr>\n",
       "    <tr>\n",
       "      <th>4</th>\n",
       "      <td>Barang bagus, berfungsi dengan baik, untuk pen...</td>\n",
       "      <td>Positive</td>\n",
       "      <td>barang bagus fungsi kirim poko mantab sayang g...</td>\n",
       "      <td>1</td>\n",
       "    </tr>\n",
       "    <tr>\n",
       "      <th>...</th>\n",
       "      <td>...</td>\n",
       "      <td>...</td>\n",
       "      <td>...</td>\n",
       "      <td>...</td>\n",
       "    </tr>\n",
       "    <tr>\n",
       "      <th>19535</th>\n",
       "      <td>Pesanan sudah diterima dengan baik packing ama...</td>\n",
       "      <td>Positive</td>\n",
       "      <td>pesan terima packing aman n kirim cepet banget...</td>\n",
       "      <td>1</td>\n",
       "    </tr>\n",
       "    <tr>\n",
       "      <th>19536</th>\n",
       "      <td>pengiriman aman dan cepat,,terima kasih.</td>\n",
       "      <td>Positive</td>\n",
       "      <td>kirim aman cepat terima kasih</td>\n",
       "      <td>1</td>\n",
       "    </tr>\n",
       "    <tr>\n",
       "      <th>19537</th>\n",
       "      <td>Mantap deh buat poco Indonesia barang bagus pe...</td>\n",
       "      <td>Positive</td>\n",
       "      <td>mantap deh poco indonesia barang bagus kirim c...</td>\n",
       "      <td>1</td>\n",
       "    </tr>\n",
       "    <tr>\n",
       "      <th>19538</th>\n",
       "      <td>Barang original dan masih segel. Pengiriman ju...</td>\n",
       "      <td>Positive</td>\n",
       "      <td>barang original segel kirim cepat</td>\n",
       "      <td>1</td>\n",
       "    </tr>\n",
       "    <tr>\n",
       "      <th>19539</th>\n",
       "      <td>Barang diterima dalam kondisi baik. Semoga awet.</td>\n",
       "      <td>Positive</td>\n",
       "      <td>barang terima kondisi moga awet</td>\n",
       "      <td>1</td>\n",
       "    </tr>\n",
       "  </tbody>\n",
       "</table>\n",
       "<p>19540 rows × 4 columns</p>\n",
       "</div>"
      ],
      "text/plain": [
       "                                                  Review    Rating  \\\n",
       "0       Beli Online memang paling aman di official store  Positive   \n",
       "1      Barang masih di segel, tepat waktu, dan packin...  Positive   \n",
       "2      mantab greget, penguriman aman,sampai tujuan s...  Positive   \n",
       "3           pertama kali beli online, aman. packing rapi  Positive   \n",
       "4      Barang bagus, berfungsi dengan baik, untuk pen...  Positive   \n",
       "...                                                  ...       ...   \n",
       "19535  Pesanan sudah diterima dengan baik packing ama...  Positive   \n",
       "19536           pengiriman aman dan cepat,,terima kasih.  Positive   \n",
       "19537  Mantap deh buat poco Indonesia barang bagus pe...  Positive   \n",
       "19538  Barang original dan masih segel. Pengiriman ju...  Positive   \n",
       "19539   Barang diterima dalam kondisi baik. Semoga awet.  Positive   \n",
       "\n",
       "                                        Review_processed  label  \n",
       "0                        beli online aman official store      1  \n",
       "1                 barang segel packing bagus barang luka      1  \n",
       "2             mantab greget penguriman aman tuju selamat      1  \n",
       "3                     kali beli online aman packing rapi      1  \n",
       "4      barang bagus fungsi kirim poko mantab sayang g...      1  \n",
       "...                                                  ...    ...  \n",
       "19535  pesan terima packing aman n kirim cepet banget...      1  \n",
       "19536                      kirim aman cepat terima kasih      1  \n",
       "19537  mantap deh poco indonesia barang bagus kirim c...      1  \n",
       "19538                  barang original segel kirim cepat      1  \n",
       "19539                    barang terima kondisi moga awet      1  \n",
       "\n",
       "[19540 rows x 4 columns]"
      ]
     },
     "execution_count": 15,
     "metadata": {},
     "output_type": "execute_result"
    }
   ],
   "source": [
    "# Change Target into Number\n",
    "\n",
    "df['label'] = df['Rating'].replace({'Negative' : 0,'Positive' : 1})\n",
    "df"
   ]
  },
  {
   "cell_type": "code",
   "execution_count": 16,
   "metadata": {},
   "outputs": [
    {
     "data": {
      "text/plain": [
       "label\n",
       "1    18850\n",
       "0      690\n",
       "Name: count, dtype: int64"
      ]
     },
     "execution_count": 16,
     "metadata": {},
     "output_type": "execute_result"
    }
   ],
   "source": [
    "# Target Distribution\n",
    "df['label'].value_counts()"
   ]
  },
  {
   "cell_type": "code",
   "execution_count": 17,
   "metadata": {},
   "outputs": [
    {
     "name": "stdout",
     "output_type": "stream",
     "text": [
      "label\n",
      "1    690\n",
      "0    690\n",
      "Name: count, dtype: int64\n"
     ]
    }
   ],
   "source": [
    "# Count the occurrences of each label\n",
    "label_counts = df[\"label\"].value_counts()\n",
    "\n",
    "# Get the number of rows to drop from the majority class\n",
    "rows_to_drop = label_counts.max() - label_counts.min()\n",
    "\n",
    "# Drop rows from the majority class randomly\n",
    "if rows_to_drop > 0:\n",
    "    df_majority = df[df[\"label\"] == label_counts.idxmax()]  # Majority class\n",
    "    df_balanced = df.drop(df_majority.sample(rows_to_drop).index)\n",
    "else:\n",
    "    df_balanced = df.copy()\n",
    "\n",
    "# Check the new class balance\n",
    "print(df_balanced[\"label\"].value_counts())\n"
   ]
  },
  {
   "cell_type": "markdown",
   "metadata": {},
   "source": [
    "# Data Splitting"
   ]
  },
  {
   "cell_type": "code",
   "execution_count": 18,
   "metadata": {},
   "outputs": [
    {
     "name": "stdout",
     "output_type": "stream",
     "text": [
      "Train Size :  (1055,)\n",
      "Val Size   :  (118,)\n",
      "Test Size  :  (207,)\n"
     ]
    }
   ],
   "source": [
    "# Data Splitting\n",
    "\n",
    "X_train_val, X_test, y_train_val, y_test = train_test_split(df_balanced.Review_processed,\n",
    "                                                    df_balanced.label,\n",
    "                                                    test_size=0.15,\n",
    "                                                    random_state=20,\n",
    "                                                    stratify=df_balanced.label)\n",
    "\n",
    "X_train, X_val, y_train, y_val = train_test_split(X_train_val,\n",
    "                                                  y_train_val,\n",
    "                                                  test_size=0.10,\n",
    "                                                  random_state=20,\n",
    "                                                  stratify=y_train_val)\n",
    "\n",
    "print('Train Size : ', X_train.shape)\n",
    "print('Val Size   : ', X_val.shape)\n",
    "print('Test Size  : ', X_test.shape)"
   ]
  },
  {
   "cell_type": "code",
   "execution_count": 19,
   "metadata": {},
   "outputs": [
    {
     "data": {
      "text/plain": [
       "array([[0., 1.],\n",
       "       [0., 1.],\n",
       "       [0., 1.],\n",
       "       ...,\n",
       "       [1., 0.],\n",
       "       [0., 1.],\n",
       "       [1., 0.]], dtype=float32)"
      ]
     },
     "execution_count": 19,
     "metadata": {},
     "output_type": "execute_result"
    }
   ],
   "source": [
    "# Change Target to One Hot Encoding\n",
    "\n",
    "from tensorflow.keras.utils import to_categorical\n",
    "\n",
    "y_train_ohe = to_categorical(y_train)\n",
    "y_val_ohe = to_categorical(y_val)\n",
    "y_test_ohe = to_categorical(y_test)\n",
    "y_train_ohe"
   ]
  },
  {
   "cell_type": "markdown",
   "metadata": {},
   "source": [
    "## Text Vectorization"
   ]
  },
  {
   "cell_type": "code",
   "execution_count": 20,
   "metadata": {},
   "outputs": [
    {
     "data": {
      "text/plain": [
       "<Compressed Sparse Row sparse matrix of dtype 'int64'\n",
       "\twith 9118 stored elements and shape (1055, 1991)>"
      ]
     },
     "execution_count": 20,
     "metadata": {},
     "output_type": "execute_result"
    }
   ],
   "source": [
    "# Get Vocabularies\n",
    "\n",
    "Vectorize = CountVectorizer()\n",
    "X_train_vec = Vectorize.fit_transform(X_train)\n",
    "X_test_vec = Vectorize.transform(X_test)\n",
    "\n",
    "X_train_vec"
   ]
  },
  {
   "cell_type": "code",
   "execution_count": 21,
   "metadata": {},
   "outputs": [
    {
     "name": "stdout",
     "output_type": "stream",
     "text": [
      "Total Vocab :  1991\n",
      "Maximum Sentence Length :  26 tokens\n"
     ]
    }
   ],
   "source": [
    "# Finding the Number of Vocabs and Max Token Length in One Document\n",
    "\n",
    "total_vocab = len(Vectorize.vocabulary_.keys())\n",
    "max_sen_len = max([len(i.split(\" \")) for i in X_train])\n",
    "\n",
    "print('Total Vocab : ', total_vocab)\n",
    "print('Maximum Sentence Length : ', max_sen_len, 'tokens')"
   ]
  },
  {
   "cell_type": "code",
   "execution_count": 22,
   "metadata": {},
   "outputs": [
    {
     "name": "stdout",
     "output_type": "stream",
     "text": [
      "WARNING:tensorflow:From c:\\Users\\asus\\Anaconda3\\envs\\py_3_11\\Lib\\site-packages\\keras\\src\\backend.py:873: The name tf.get_default_graph is deprecated. Please use tf.compat.v1.get_default_graph instead.\n",
      "\n",
      "WARNING:tensorflow:From c:\\Users\\asus\\Anaconda3\\envs\\py_3_11\\Lib\\site-packages\\keras\\src\\utils\\tf_utils.py:492: The name tf.ragged.RaggedTensorValue is deprecated. Please use tf.compat.v1.ragged.RaggedTensorValue instead.\n",
      "\n"
     ]
    }
   ],
   "source": [
    "# Text Vectorization\n",
    "\n",
    "from tensorflow.keras.layers import TextVectorization\n",
    "\n",
    "text_vectorization = TextVectorization(max_tokens=total_vocab,\n",
    "                                       standardize=\"lower_and_strip_punctuation\",\n",
    "                                       split=\"whitespace\",\n",
    "                                       ngrams=None,\n",
    "                                       output_mode=\"int\",\n",
    "                                       output_sequence_length=max_sen_len,\n",
    "                                       input_shape=(1,)) # Only use in Sequential API\n",
    "\n",
    "text_vectorization.adapt(X_train)"
   ]
  },
  {
   "cell_type": "code",
   "execution_count": 23,
   "metadata": {},
   "outputs": [
    {
     "name": "stdout",
     "output_type": "stream",
     "text": [
      "Document example\n",
      "hp nya aman pakai kendala kali beli hp online kalo kasih free casing hehe kirim cepet bgt\n",
      "\n",
      "Result of Text Vectorization\n",
      "tf.Tensor(\n",
      "[[ 10   4   5  41 105  63  11  10 148 117  32 230 849 793   3 129  64   0\n",
      "    0   0   0   0   0   0   0   0]], shape=(1, 26), dtype=int64)\n",
      "Vector size :  (1, 26)\n"
     ]
    }
   ],
   "source": [
    "# Example Result\n",
    "\n",
    "# Reset index\n",
    "df_balanced = df_balanced.reset_index(drop=True)\n",
    "\n",
    "## Document example\n",
    "print('Document example')\n",
    "print(df_balanced.Review_processed[0])\n",
    "print('')\n",
    "\n",
    "## Result of Text Vectorization\n",
    "print('Result of Text Vectorization')\n",
    "print(text_vectorization([df_balanced.Review_processed[0]]))\n",
    "print('Vector size : ', text_vectorization([df_balanced.Review_processed[0]]).shape)"
   ]
  },
  {
   "cell_type": "code",
   "execution_count": 24,
   "metadata": {},
   "outputs": [
    {
     "data": {
      "text/plain": [
       "['',\n",
       " '[UNK]',\n",
       " 'barang',\n",
       " 'kirim',\n",
       " 'nya',\n",
       " 'aman',\n",
       " 'segel',\n",
       " 'bagus',\n",
       " 'cepat',\n",
       " 'sesuai',\n",
       " 'hp',\n",
       " 'beli',\n",
       " 'kurir',\n",
       " 'terima',\n",
       " 'yg',\n",
       " 'pesan',\n",
       " 'packing',\n",
       " 'ga',\n",
       " 'moga',\n",
       " 'mantap']"
      ]
     },
     "execution_count": 24,
     "metadata": {},
     "output_type": "execute_result"
    }
   ],
   "source": [
    "# View the Top 20 Tokens (Sorted by the Highest Frequency of Appearance)\n",
    "\n",
    "text_vectorization.get_vocabulary()[:20]"
   ]
  },
  {
   "cell_type": "markdown",
   "metadata": {},
   "source": [
    "## Word Embedding"
   ]
  },
  {
   "cell_type": "code",
   "execution_count": 25,
   "metadata": {},
   "outputs": [],
   "source": [
    "# Embedding\n",
    "\n",
    "from tensorflow.keras.layers import Embedding\n",
    "embedding = Embedding(input_dim=total_vocab,\n",
    "                      output_dim=128,\n",
    "                      embeddings_initializer=\"uniform\",\n",
    "                      input_length=max_sen_len)"
   ]
  },
  {
   "cell_type": "code",
   "execution_count": 26,
   "metadata": {},
   "outputs": [
    {
     "name": "stdout",
     "output_type": "stream",
     "text": [
      "Document example\n",
      "hp nya aman pakai kendala kali beli hp online kalo kasih free casing hehe kirim cepet bgt\n",
      "\n",
      "Result of  Text Vectorization\n",
      "tf.Tensor(\n",
      "[[ 10   4   5  41 105  63  11  10 148 117  32 230 849 793   3 129  64   0\n",
      "    0   0   0   0   0   0   0   0]], shape=(1, 26), dtype=int64)\n",
      "Vector size :  (1, 26)\n",
      "\n",
      "Result of  Embedding\n",
      "tf.Tensor(\n",
      "[[[-0.01667406 -0.04498438  0.04174126 ...  0.04207988  0.00148904\n",
      "    0.01266021]\n",
      "  [ 0.02767512  0.01397708  0.03515777 ...  0.02242323 -0.03619702\n",
      "    0.03120944]\n",
      "  [ 0.00524294  0.00078128 -0.02581955 ... -0.02973755 -0.04725726\n",
      "    0.04108573]\n",
      "  ...\n",
      "  [-0.03697871  0.00102236 -0.03275388 ...  0.03115961  0.02522982\n",
      "   -0.04571444]\n",
      "  [-0.03697871  0.00102236 -0.03275388 ...  0.03115961  0.02522982\n",
      "   -0.04571444]\n",
      "  [-0.03697871  0.00102236 -0.03275388 ...  0.03115961  0.02522982\n",
      "   -0.04571444]]], shape=(1, 26, 128), dtype=float32)\n",
      "Vector size :  (1, 26, 128)\n"
     ]
    }
   ],
   "source": [
    "# Example Result\n",
    "\n",
    "## Document example\n",
    "print('Document example')\n",
    "print(df_balanced.Review_processed[0])\n",
    "print('')\n",
    "\n",
    "## Result of Text Vectorization\n",
    "print('Result of  Text Vectorization')\n",
    "print(text_vectorization([df_balanced.Review_processed[0]]))\n",
    "print('Vector size : ', text_vectorization([df_balanced.Review_processed[0]]).shape)\n",
    "print('')\n",
    "\n",
    "## Result of  Embedding\n",
    "print('Result of  Embedding')\n",
    "print(embedding(text_vectorization([df_balanced.Review_processed[0]])))\n",
    "print('Vector size : ', embedding(text_vectorization([df_balanced.Review_processed[0]])).shape)"
   ]
  },
  {
   "cell_type": "code",
   "execution_count": 27,
   "metadata": {},
   "outputs": [
    {
     "name": "stdout",
     "output_type": "stream",
     "text": [
      "WARNING:tensorflow:From c:\\Users\\asus\\Anaconda3\\envs\\py_3_11\\Lib\\site-packages\\keras\\src\\optimizers\\__init__.py:309: The name tf.train.Optimizer is deprecated. Please use tf.compat.v1.train.Optimizer instead.\n",
      "\n",
      "Epoch 1/25\n",
      "WARNING:tensorflow:From c:\\Users\\asus\\Anaconda3\\envs\\py_3_11\\Lib\\site-packages\\keras\\src\\engine\\base_layer_utils.py:384: The name tf.executing_eagerly_outside_functions is deprecated. Please use tf.compat.v1.executing_eagerly_outside_functions instead.\n",
      "\n",
      "33/33 [==============================] - 15s 109ms/step - loss: 0.6425 - accuracy: 0.6597 - val_loss: 0.5011 - val_accuracy: 0.7797\n",
      "Epoch 2/25\n",
      "33/33 [==============================] - 2s 49ms/step - loss: 0.3146 - accuracy: 0.8796 - val_loss: 0.3222 - val_accuracy: 0.8898\n",
      "Epoch 3/25\n",
      "33/33 [==============================] - 2s 48ms/step - loss: 0.1532 - accuracy: 0.9526 - val_loss: 0.4118 - val_accuracy: 0.8814\n",
      "Epoch 4/25\n",
      "33/33 [==============================] - 2s 50ms/step - loss: 0.0933 - accuracy: 0.9735 - val_loss: 0.4982 - val_accuracy: 0.8644\n",
      "Epoch 5/25\n",
      "33/33 [==============================] - 2s 49ms/step - loss: 0.0717 - accuracy: 0.9791 - val_loss: 0.5075 - val_accuracy: 0.8729\n",
      "Epoch 6/25\n",
      "33/33 [==============================] - 2s 47ms/step - loss: 0.0653 - accuracy: 0.9801 - val_loss: 0.4806 - val_accuracy: 0.8729\n",
      "Epoch 7/25\n",
      "33/33 [==============================] - 2s 47ms/step - loss: 0.0374 - accuracy: 0.9924 - val_loss: 0.5443 - val_accuracy: 0.8898\n",
      "Epoch 8/25\n",
      "33/33 [==============================] - 1s 46ms/step - loss: 0.0325 - accuracy: 0.9934 - val_loss: 0.6004 - val_accuracy: 0.8559\n",
      "Epoch 9/25\n",
      "33/33 [==============================] - 1s 45ms/step - loss: 0.0271 - accuracy: 0.9953 - val_loss: 0.5834 - val_accuracy: 0.8898\n",
      "Epoch 10/25\n",
      "33/33 [==============================] - 2s 49ms/step - loss: 0.0424 - accuracy: 0.9877 - val_loss: 0.6751 - val_accuracy: 0.8390\n",
      "Epoch 11/25\n",
      "33/33 [==============================] - 2s 54ms/step - loss: 0.0314 - accuracy: 0.9934 - val_loss: 0.6423 - val_accuracy: 0.8729\n",
      "Epoch 12/25\n",
      "33/33 [==============================] - 2s 52ms/step - loss: 0.0211 - accuracy: 0.9962 - val_loss: 0.6734 - val_accuracy: 0.8814\n",
      "Epoch 13/25\n",
      "33/33 [==============================] - 2s 51ms/step - loss: 0.0155 - accuracy: 0.9962 - val_loss: 0.6366 - val_accuracy: 0.8898\n",
      "Epoch 14/25\n",
      "33/33 [==============================] - 2s 52ms/step - loss: 0.0112 - accuracy: 0.9981 - val_loss: 0.7240 - val_accuracy: 0.8814\n",
      "Epoch 15/25\n",
      "33/33 [==============================] - 2s 52ms/step - loss: 0.0120 - accuracy: 0.9981 - val_loss: 0.7296 - val_accuracy: 0.8814\n",
      "Epoch 16/25\n",
      "33/33 [==============================] - 2s 47ms/step - loss: 0.0097 - accuracy: 0.9981 - val_loss: 0.7388 - val_accuracy: 0.8898\n",
      "Epoch 17/25\n",
      "33/33 [==============================] - 2s 52ms/step - loss: 0.0097 - accuracy: 0.9972 - val_loss: 0.7469 - val_accuracy: 0.8898\n",
      "Epoch 18/25\n",
      "33/33 [==============================] - 2s 49ms/step - loss: 0.0273 - accuracy: 0.9886 - val_loss: 0.7031 - val_accuracy: 0.8814\n",
      "Epoch 19/25\n",
      "33/33 [==============================] - 2s 51ms/step - loss: 0.0165 - accuracy: 0.9962 - val_loss: 0.8287 - val_accuracy: 0.8729\n",
      "Epoch 20/25\n",
      "33/33 [==============================] - 2s 51ms/step - loss: 0.0106 - accuracy: 0.9972 - val_loss: 0.8544 - val_accuracy: 0.8814\n",
      "Epoch 21/25\n",
      "33/33 [==============================] - 2s 49ms/step - loss: 0.0095 - accuracy: 0.9981 - val_loss: 0.8059 - val_accuracy: 0.8814\n",
      "Epoch 22/25\n",
      "33/33 [==============================] - 2s 47ms/step - loss: 0.0098 - accuracy: 0.9981 - val_loss: 0.8015 - val_accuracy: 0.8898\n",
      "Epoch 23/25\n",
      "33/33 [==============================] - 2s 49ms/step - loss: 0.0083 - accuracy: 0.9981 - val_loss: 0.8088 - val_accuracy: 0.8898\n",
      "Epoch 24/25\n",
      "33/33 [==============================] - 2s 50ms/step - loss: 0.0076 - accuracy: 0.9981 - val_loss: 0.8191 - val_accuracy: 0.8814\n",
      "Epoch 25/25\n",
      "33/33 [==============================] - 2s 48ms/step - loss: 0.0069 - accuracy: 0.9981 - val_loss: 0.8545 - val_accuracy: 0.8814\n"
     ]
    }
   ],
   "source": [
    "# Model Training using LSTM\n",
    "from tensorflow.keras.models import Sequential\n",
    "from tensorflow.keras.layers import Dense, LSTM, Bidirectional, GRU, Dropout, Reshape\n",
    "\n",
    "## Clear Session\n",
    "seed = 20\n",
    "tf.keras.backend.clear_session()\n",
    "np.random.seed(seed)\n",
    "tf.random.set_seed(seed)\n",
    "\n",
    "## Define the architecture\n",
    "model_lstm_1 = Sequential()\n",
    "model_lstm_1.add(text_vectorization)\n",
    "model_lstm_1.add(embedding)\n",
    "model_lstm_1.add(Bidirectional(LSTM(32, return_sequences=True, kernel_initializer=tf.keras.initializers.GlorotUniform(seed))))\n",
    "model_lstm_1.add(Dropout(0.1))\n",
    "model_lstm_1.add(Bidirectional(LSTM(16, kernel_initializer=tf.keras.initializers.GlorotUniform(seed))))\n",
    "model_lstm_1.add(Dropout(0.1))\n",
    "model_lstm_1.add(Dense(2, activation='softmax'))\n",
    "\n",
    "model_lstm_1.compile(loss='categorical_crossentropy', optimizer='adam', metrics=['accuracy'])\n",
    "\n",
    "model_lstm_1_hist = model_lstm_1.fit(X_train, y_train_ohe, epochs=25, validation_data=(X_val, y_val_ohe))"
   ]
  },
  {
   "cell_type": "code",
   "execution_count": 28,
   "metadata": {},
   "outputs": [
    {
     "data": {
      "image/png": "[encoded data removed]",
      "text/plain": [
       "<Figure size 1500x500 with 2 Axes>"
      ]
     },
     "metadata": {},
     "output_type": "display_data"
    }
   ],
   "source": [
    "# Plot Training Results\n",
    "\n",
    "model_lstm_1_hist_df = pd.DataFrame(model_lstm_1_hist.history)\n",
    "\n",
    "plt.figure(figsize=(15, 5))\n",
    "plt.subplot(1, 2, 1)\n",
    "sns.lineplot(data=model_lstm_1_hist_df[['accuracy', 'val_accuracy']])\n",
    "plt.grid()\n",
    "plt.title('Accuracy vs Val-Accuracy')\n",
    "\n",
    "plt.subplot(1, 2, 2)\n",
    "sns.lineplot(data=model_lstm_1_hist_df[['loss', 'val_loss']])\n",
    "plt.grid()\n",
    "plt.title('Loss vs Val-Loss')\n",
    "plt.show()"
   ]
  },
  {
   "cell_type": "code",
   "execution_count": 31,
   "metadata": {},
   "outputs": [
    {
     "name": "stdout",
     "output_type": "stream",
     "text": [
      "INFO:tensorflow:Assets written to: NLP_model.tf\\assets\n"
     ]
    },
    {
     "name": "stderr",
     "output_type": "stream",
     "text": [
      "INFO:tensorflow:Assets written to: NLP_model.tf\\assets\n"
     ]
    }
   ],
   "source": [
    "model_lstm_1.save('NLP_model.tf')"
   ]
  }
 ],
 "metadata": {
  "kernelspec": {
   "display_name": "py_3_11",
   "language": "python",
   "name": "python3"
  },
  "language_info": {
   "codemirror_mode": {
    "name": "ipython",
    "version": 3
   },
   "file_extension": ".py",
   "mimetype": "text/x-python",
   "name": "python",
   "nbconvert_exporter": "python",
   "pygments_lexer": "ipython3",
   "version": "3.11.8"
  }
 },
 "nbformat": 4,
 "nbformat_minor": 2
}
